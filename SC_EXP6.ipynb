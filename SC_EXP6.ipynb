{
  "nbformat": 4,
  "nbformat_minor": 0,
  "metadata": {
    "colab": {
      "provenance": []
    },
    "kernelspec": {
      "name": "python3",
      "display_name": "Python 3"
    },
    "language_info": {
      "name": "python"
    }
  },
  "cells": [
    {
      "cell_type": "code",
      "execution_count": null,
      "metadata": {
        "colab": {
          "base_uri": "https://localhost:8080/"
        },
        "id": "gkd3iVyafVeW",
        "outputId": "c8090c85-3f9b-4308-b0de-ef14321fe220"
      },
      "outputs": [
        {
          "output_type": "stream",
          "name": "stdout",
          "text": [
            "R1oR2 => Max-Min :\n",
            "[[0.4 0.6]\n",
            " [0.2 0.2]]\n",
            "\n",
            "R1oR2 => Max-Product :\n",
            "[[0.28 0.36]\n",
            " [0.14 0.12]]\n",
            "\n",
            "\n"
          ]
        }
      ],
      "source": [
        "#Krisha goti C035\n",
        "import numpy as np\n",
        "\n",
        "# Max-Min Composition\n",
        "def maxMin(x, y):\n",
        "    z = []\n",
        "    for x1 in x:\n",
        "        for y1 in y.T:\n",
        "            z.append(max(np.minimum(x1, y1)))\n",
        "    return np.array(z).reshape((x.shape[0], y.shape[1]))\n",
        "\n",
        "# Max-Product Composition\n",
        "def maxProduct(x, y):\n",
        "    z = []\n",
        "    for x1 in x:\n",
        "        for y1 in y.T:\n",
        "            z.append(max(np.multiply(x1, y1)))\n",
        "    return np.array(z).reshape((x.shape[0], y.shape[1]))\n",
        "\n",
        "# 3 arrays for the example\n",
        "r1 = np.array([[0.6,0.5,0.4], [0.2, 0.1, 0.2]])\n",
        "r2 = np.array([[0.2,0.6], [0.1, 0.3], [0.7, 0.5]])\n",
        "\n",
        "print(\"R1oR2 => Max-Min :\\n\" + str(maxMin(r1, r2)) + \"\\n\")\n",
        "print(\"R1oR2 => Max-Product :\\n\" + str(maxProduct(r1, r2)) + \"\\n\\n\")\n"
      ]
    }
  ]
}