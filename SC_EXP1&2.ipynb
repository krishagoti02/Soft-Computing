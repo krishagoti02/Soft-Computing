{
  "nbformat": 4,
  "nbformat_minor": 0,
  "metadata": {
    "colab": {
      "provenance": []
    },
    "kernelspec": {
      "name": "python3",
      "display_name": "Python 3"
    },
    "language_info": {
      "name": "python"
    }
  },
  "cells": [
    {
      "cell_type": "markdown",
      "source": [
        "AND GATE"
      ],
      "metadata": {
        "id": "JUSXQF2CvYpr"
      }
    },
    {
      "cell_type": "code",
      "source": [
        "#implement AND function using MP model\n",
        "\n",
        "a=[0,0,0,1,1,0,1,1] #this is all the and gate array -use case\n",
        "\n",
        "weight = 1\n",
        "count = 0\n",
        "finalvalue=[]\n",
        "\n",
        "# after this answer of AND gate will be 0,1,1,2 by using yin formula\n",
        "#which is yin=x1w1+x2w2\n",
        "\n",
        "for i in range(0,4):\n",
        "  yin=(weight*a[count]+(weight*a[count+1]))\n",
        "  count=count+2\n",
        "  finalvalue.append(yin)\n",
        "print(finalvalue)\n",
        "\n",
        "# theta\n",
        "\n",
        "theta=0\n",
        "cond=False\n",
        "\n",
        "while(cond==False):\n",
        "\n",
        "  if finalvalue[0]>=theta:\n",
        "    print(str(theta)+\" is not the theta value.\")\n",
        "    theta=theta+1\n",
        "\n",
        "  elif finalvalue[1]>=theta:\n",
        "    print(str(theta)+\" is not the theta value.\")\n",
        "    theta=theta+1\n",
        "\n",
        "  elif finalvalue[2]>=theta:\n",
        "    print(str(theta)+\" is not the theta value.\")\n",
        "    theta=theta+1\n",
        "\n",
        "  else:\n",
        "    print(\"Theta Value: \"+str(theta)+\" for AND gate\")\n",
        "    cond=True"
      ],
      "metadata": {
        "colab": {
          "base_uri": "https://localhost:8080/"
        },
        "id": "4p9Hr8EeFgyv",
        "outputId": "36903fb2-dcff-41f1-8265-5efdf7317dc2"
      },
      "execution_count": null,
      "outputs": [
        {
          "output_type": "stream",
          "name": "stdout",
          "text": [
            "[0, 1, 1, 2]\n",
            "0 is not the theta value.\n",
            "1 is not the theta value.\n",
            "Theta Value: 2 for AND gate\n"
          ]
        }
      ]
    },
    {
      "cell_type": "markdown",
      "source": [
        "OR GATE"
      ],
      "metadata": {
        "id": "_GW0foOmvVYr"
      }
    },
    {
      "cell_type": "code",
      "source": [
        "#implement OR function using MP model\n",
        "\n",
        "a=[0,0,0,1,1,0,1,1] #this is all the or gate array -use case\n",
        "\n",
        "weight = 1\n",
        "count = 0\n",
        "final_val=[]\n",
        "\n",
        "# after this answer of OR gate will be 0,1,1,2 by using yin formula\n",
        "#which is yin=x1w1+x2w2\n",
        "\n",
        "for i in range(0,4):\n",
        "\n",
        "  yin=(weight*a[count]+(weight*a[count+1]))\n",
        "  count=count+2\n",
        "  final_val.append(yin)\n",
        "\n",
        "print(final_val)\n",
        "\n",
        "theta = 0\n",
        "cond= False\n",
        "\n",
        "while(cond==False):\n",
        "\n",
        "  if final_val[0]>=theta:\n",
        "    theta=theta+1\n",
        "\n",
        "  elif final_val[1]<=theta and final_val[2]<=theta and final_val[2]<=theta:\n",
        "    print(\"Theta Value is: \"+str(theta)+\" for OR gate\")\n",
        "\n",
        "    cond=True\n"
      ],
      "metadata": {
        "colab": {
          "base_uri": "https://localhost:8080/"
        },
        "id": "KY0mrohCrov1",
        "outputId": "8e9f027e-9715-4891-8acb-7156a5ba0103"
      },
      "execution_count": null,
      "outputs": [
        {
          "output_type": "stream",
          "name": "stdout",
          "text": [
            "[0, 1, 1, 2]\n",
            "Theta Value is: 1 for OR gate\n"
          ]
        }
      ]
    },
    {
      "cell_type": "markdown",
      "source": [
        "NOT GATE"
      ],
      "metadata": {
        "id": "R09hIS9JCvhF"
      }
    },
    {
      "cell_type": "code",
      "source": [
        "x = [0,1]\n",
        "\n",
        "# Output Value\n",
        "y = [1,0]\n",
        "\n",
        "# Weight for yin\n",
        "w = -1\n",
        "\n",
        "# Gives yin values\n",
        "\n",
        "yin_val=[]\n",
        "for i in x:\n",
        "\n",
        "  yin_val.append(i*w)\n",
        "\n",
        "# Compares the y with yin using different thresholds\n",
        "for i in yin_val:\n",
        "\n",
        "    new_list=[]\n",
        "    for j in yin_val:\n",
        "\n",
        "      new_list.append(int(j >= i))\n",
        "    print(new_list)\n",
        "\n",
        "    if new_list == y:\n",
        "\n",
        "      print(f'{i} is the threshold for Not gate')\n",
        "      break\n",
        "    print(f'{i} is not the threshold for Not gate')\n",
        "\n",
        "\n"
      ],
      "metadata": {
        "colab": {
          "base_uri": "https://localhost:8080/"
        },
        "id": "f4OvT9Zz-mQd",
        "outputId": "f2fb4f7b-da02-442c-dd55-0e0a64a02a9b"
      },
      "execution_count": null,
      "outputs": [
        {
          "output_type": "stream",
          "name": "stdout",
          "text": [
            "[1, 0]\n",
            "0 is the threshold for Not gate\n"
          ]
        }
      ]
    },
    {
      "cell_type": "markdown",
      "source": [
        "AND NOT GATE"
      ],
      "metadata": {
        "id": "r9jfZhMVm35H"
      }
    },
    {
      "cell_type": "code",
      "source": [
        "# AND NOT GATE\n",
        "\n",
        "# Input Value\n",
        "x1 = [0,0,1,1]\n",
        "x2 = [0,1,0,1]\n",
        "\n",
        "# Output Value\n",
        "y = [0,0,1,0]\n",
        "\n",
        "# Weight for yin\n",
        "w1 = 1\n",
        "w2 = -1\n",
        "\n",
        "# Gives yin values\n",
        "yin_val=[]\n",
        "\n",
        "for val1, val2 in zip(x1,x2):\n",
        "  yin_val.append((val1*w1)+(val2*w2))\n",
        "\n",
        "# Compares the y with yin using different thresholds\n",
        "\n",
        "for i in yin_val:\n",
        "    new_list=[]\n",
        "\n",
        "    for j in yin_val:\n",
        "      new_list.append(int(j >= i))\n",
        "    print(new_list)\n",
        "\n",
        "    if new_list == y:\n",
        "\n",
        "      print(f'{i} is the threshold')\n",
        "      break\n",
        "    print(f'{i} is not the threshold')"
      ],
      "metadata": {
        "id": "CKWPImnQFG3q",
        "colab": {
          "base_uri": "https://localhost:8080/"
        },
        "outputId": "06e802a6-1a96-498d-8166-88572ddb058a"
      },
      "execution_count": null,
      "outputs": [
        {
          "output_type": "stream",
          "name": "stdout",
          "text": [
            "[1, 0, 1, 1]\n",
            "0 is not the threshold\n",
            "[1, 1, 1, 1]\n",
            "-1 is not the threshold\n",
            "[0, 0, 1, 0]\n",
            "1 is the threshold\n"
          ]
        }
      ]
    },
    {
      "cell_type": "markdown",
      "source": [
        "XOR GATE"
      ],
      "metadata": {
        "id": "YWCf8yfzpyVG"
      }
    },
    {
      "cell_type": "code",
      "source": [
        "import pandas as pd\n",
        "import numpy as np\n",
        "\n",
        "def threshold_func(Yin, threshold):\n",
        "\n",
        "    return 1 if Yin >= threshold else 0\n",
        "\n",
        "def MPXOR(data, weights):\n",
        "    output = []\n",
        "    weights1 = [1, -1]\n",
        "    weights2 = [-1, 1]\n",
        "\n",
        "    def find_z(data,w):\n",
        "        z_output = []\n",
        "\n",
        "        print(f'\\n with weights: {w}, threshold=1')\n",
        "\n",
        "        for x in data:\n",
        "\n",
        "            weighted_sum = (x[0]*w[0]) + (x[1]*w[1])\n",
        "            print(f'{x[0]}*{w[0]} + {x[1]}*{w[1]} = {weighted_sum}')\n",
        "            z_output.append(threshold_func(weighted_sum, threshold=1))\n",
        "\n",
        "        return z_output\n",
        "\n",
        "    print(f'weights:\\nw11:{weights1[0]}, w21:{weights1[1]}\\nw22:{weights[0]},w12:{weights1[1]}')\n",
        "\n",
        "    print('\\nXOR gate working:')\n",
        "\n",
        "    data_z1=find_z(data,weights1)\n",
        "    data_z2=find_z(data,weights2)\n",
        "\n",
        "    combine_z=np.vstack((data_z1,data_z2)).T\n",
        "\n",
        "    print(f'\\nz1: {data_z1}')\n",
        "    print(f'z2: {data_z2}')\n",
        "\n",
        "    z=pd.DataFrame(combine_z,columns=['z1','z2'])\n",
        "\n",
        "    print()\n",
        "    print(z)\n",
        "    print(f'with weights: {weights}, threshold=1')\n",
        "\n",
        "    for x in combine_z:\n",
        "\n",
        "           weighted_sum = (x[0]*weights[0]) + (x[1]*weights[1])\n",
        "           print(f'{x[0]}*{weights[0]} + {x[1]}*{weights[1]}= {weighted_sum}')\n",
        "           output.append(threshold_func(weighted_sum,threshold=1))\n",
        "\n",
        "    return output\n",
        "\n",
        "\n",
        "data=[[0,0],[0,1],[1,0],[1,1]]\n",
        "weights=[1,1]\n",
        "\n",
        "output= MPXOR(data,weights)\n",
        "\n",
        "df=pd.DataFrame(data, columns=['X1','X2'])\n",
        "df['y']=output\n",
        "\n",
        "print(f'\\noutput:\\n{df}')\n"
      ],
      "metadata": {
        "colab": {
          "base_uri": "https://localhost:8080/"
        },
        "id": "OUXhjv4EpOOl",
        "outputId": "7f92f6a7-4cf0-4e2b-ec6a-a6d83fa9545e"
      },
      "execution_count": null,
      "outputs": [
        {
          "output_type": "stream",
          "name": "stdout",
          "text": [
            "weights:\n",
            "w11:1, w21:-1\n",
            "w22:1,w12:-1\n",
            "\n",
            "XOR gate working:\n",
            "\n",
            " with weights: [1, -1], threshold=1\n",
            "0*1 + 0*-1 = 0\n",
            "0*1 + 1*-1 = -1\n",
            "1*1 + 0*-1 = 1\n",
            "1*1 + 1*-1 = 0\n",
            "\n",
            " with weights: [-1, 1], threshold=1\n",
            "0*-1 + 0*1 = 0\n",
            "0*-1 + 1*1 = 1\n",
            "1*-1 + 0*1 = -1\n",
            "1*-1 + 1*1 = 0\n",
            "\n",
            "z1: [0, 0, 1, 0]\n",
            "z2: [0, 1, 0, 0]\n",
            "\n",
            "   z1  z2\n",
            "0   0   0\n",
            "1   0   1\n",
            "2   1   0\n",
            "3   0   0\n",
            "with weights: [1, 1], threshold=1\n",
            "0*1 + 0*1= 0\n",
            "0*1 + 1*1= 1\n",
            "1*1 + 0*1= 1\n",
            "0*1 + 0*1= 0\n",
            "\n",
            "output:\n",
            "   X1  X2  y\n",
            "0   0   0  0\n",
            "1   0   1  1\n",
            "2   1   0  1\n",
            "3   1   1  0\n"
          ]
        }
      ]
    },
    {
      "cell_type": "markdown",
      "source": [
        "NOR GATE"
      ],
      "metadata": {
        "id": "7BPJKtk6r3bL"
      }
    },
    {
      "cell_type": "code",
      "source": [
        "# NOR Gate\n",
        "\n",
        "# Input Value\n",
        "x1 = [0,0,1,1]\n",
        "x2 = [0,1,0,1]\n",
        "\n",
        "# Output Value\n",
        "y = [1,0,0,0]\n",
        "\n",
        "# Weight for yin\n",
        "w1 = -1\n",
        "w2 = -1\n",
        "\n",
        "# Gives yin values\n",
        "yin_val=[]\n",
        "for val1, val2 in zip(x1,x2):\n",
        "  yin_val.append((val1*w1)+(val2*w2))\n",
        "\n",
        "# Compares the y with yin using different thresholds\n",
        "for i in yin_val:\n",
        "\n",
        "    new_list=[]\n",
        "    for j in yin_val:\n",
        "\n",
        "      new_list.append(int(j >= i))\n",
        "    print(new_list)\n",
        "\n",
        "    if new_list == y:\n",
        "\n",
        "      print(f'{i} is the threshold')\n",
        "      break\n",
        "    print(f'{i} is not the threshold')"
      ],
      "metadata": {
        "colab": {
          "base_uri": "https://localhost:8080/"
        },
        "id": "N3rtHcjtr43B",
        "outputId": "9cc26578-a0cc-43b0-f97d-8adb1c5b8018"
      },
      "execution_count": null,
      "outputs": [
        {
          "output_type": "stream",
          "name": "stdout",
          "text": [
            "[1, 0, 0, 0]\n",
            "0 is the threshold\n"
          ]
        }
      ]
    },
    {
      "cell_type": "markdown",
      "source": [
        "NAND GATE"
      ],
      "metadata": {
        "id": "WesA2KfJsWH3"
      }
    },
    {
      "cell_type": "code",
      "source": [
        "# NAND Gate\n",
        "\n",
        "# Input Value\n",
        "x1 = [0,0,1,1]\n",
        "x2 = [0,1,0,1]\n",
        "\n",
        "# Output Value\n",
        "y = [1,1,1,0]\n",
        "\n",
        "# Weight for yin\n",
        "w1 = -1\n",
        "w2 = -1\n",
        "\n",
        "# Gives yin values\n",
        "yin_val=[]\n",
        "for val1, val2 in zip(x1,x2):\n",
        "  yin_val.append((val1*w1)+(val2*w2))\n",
        "\n",
        "# Compares the y with yin using different thresholds\n",
        "for i in yin_val:\n",
        "\n",
        "    new_list=[]\n",
        "    for j in yin_val:\n",
        "\n",
        "      new_list.append(int(j >= i))\n",
        "    print(new_list)\n",
        "    if new_list == y:\n",
        "\n",
        "      print(f'{i} is the threshold')\n",
        "      break\n",
        "    print(f'{i} is not the threshold')"
      ],
      "metadata": {
        "colab": {
          "base_uri": "https://localhost:8080/"
        },
        "id": "bOUeQqbNsXpA",
        "outputId": "6243c650-b120-4cdb-ff1a-9e0a311325ef"
      },
      "execution_count": null,
      "outputs": [
        {
          "output_type": "stream",
          "name": "stdout",
          "text": [
            "[1, 0, 0, 0]\n",
            "0 is not the threshold\n",
            "[1, 1, 1, 0]\n",
            "-1 is the threshold\n"
          ]
        }
      ]
    }
  ]
}