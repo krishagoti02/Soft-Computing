{
  "nbformat": 4,
  "nbformat_minor": 0,
  "metadata": {
    "colab": {
      "provenance": []
    },
    "kernelspec": {
      "name": "python3",
      "display_name": "Python 3"
    },
    "language_info": {
      "name": "python"
    }
  },
  "cells": [
    {
      "cell_type": "markdown",
      "source": [
        "EXP5\n",
        "Krisha Goti, C035"
      ],
      "metadata": {
        "id": "2U3UriOndcYe"
      }
    },
    {
      "cell_type": "code",
      "execution_count": null,
      "metadata": {
        "colab": {
          "base_uri": "https://localhost:8080/"
        },
        "id": "R-KNbgo6ZqK3",
        "outputId": "a452963e-4e38-4daa-dc57-a149ab86dbfa"
      },
      "outputs": [
        {
          "name": "stdout",
          "output_type": "stream",
          "text": [
            "Enter set A:0.1,0.7,1,0\n",
            "Enter set B:0.4,0.3,1,0.2\n"
          ]
        }
      ],
      "source": [
        "a_set=list(map(float,input(\"Enter set A:\").split(\",\")))\n",
        "b_set=list(map(float,input(\"Enter set B:\").split(\",\")))"
      ]
    },
    {
      "cell_type": "code",
      "source": [
        "def printer(output):\n",
        "  temp=[]\n",
        "\n",
        "  for i,o in enumerate(output):\n",
        "    temp.append(('x'+str(i+1),o))\n",
        "\n",
        "    print(temp)"
      ],
      "metadata": {
        "id": "cLbbSKniauB8"
      },
      "execution_count": null,
      "outputs": []
    },
    {
      "cell_type": "markdown",
      "source": [
        "UNION"
      ],
      "metadata": {
        "id": "j-wTVZtlb8Df"
      }
    },
    {
      "cell_type": "code",
      "source": [
        "def union(a_set, b_set):\n",
        "  output=[]\n",
        "  for a,b in zip(a_set, b_set):\n",
        "    output.append(max(a,b))\n",
        "\n",
        "  print(output)\n",
        "union(a_set, b_set)"
      ],
      "metadata": {
        "colab": {
          "base_uri": "https://localhost:8080/"
        },
        "id": "joiFFRjWbQ-T",
        "outputId": "03bf6c2f-89c5-48c4-ae6d-02a7f5703b3c"
      },
      "execution_count": null,
      "outputs": [
        {
          "output_type": "stream",
          "name": "stdout",
          "text": [
            "[0.4, 0.7, 1.0, 0.2]\n"
          ]
        }
      ]
    },
    {
      "cell_type": "markdown",
      "source": [
        "INTERSECT"
      ],
      "metadata": {
        "id": "dnZRmzPPcBSW"
      }
    },
    {
      "cell_type": "code",
      "source": [
        "def intersect(a_set, b_set):\n",
        "  output=[]\n",
        "  for a,b in zip(a_set, b_set):\n",
        "    output.append(min(a,b))\n",
        "\n",
        "  print(output)\n",
        "intersect(a_set, b_set)"
      ],
      "metadata": {
        "colab": {
          "base_uri": "https://localhost:8080/"
        },
        "id": "ZUjeqKA-bw58",
        "outputId": "f5540e46-cc87-4549-ca09-b33d864e3654"
      },
      "execution_count": null,
      "outputs": [
        {
          "output_type": "stream",
          "name": "stdout",
          "text": [
            "[0.1, 0.3, 1.0, 0.0]\n"
          ]
        }
      ]
    },
    {
      "cell_type": "markdown",
      "source": [
        "COMPLEMENT"
      ],
      "metadata": {
        "id": "vvBlVAIqb_JP"
      }
    },
    {
      "cell_type": "code",
      "source": [
        "def complement(a_set):\n",
        "  output=[]\n",
        "  for a in a_set:\n",
        "    output.append(round(1-a,2))\n",
        "\n",
        "  print(output)\n",
        "complement(a_set)"
      ],
      "metadata": {
        "colab": {
          "base_uri": "https://localhost:8080/"
        },
        "id": "DC85LlFkcDUa",
        "outputId": "994314b8-a1c7-4c91-9e5d-2018b525ea84"
      },
      "execution_count": null,
      "outputs": [
        {
          "output_type": "stream",
          "name": "stdout",
          "text": [
            "[0.9, 0.3, 0.0, 1.0]\n"
          ]
        }
      ]
    },
    {
      "cell_type": "code",
      "source": [
        "def complement(b_set):\n",
        "  output=[]\n",
        "  for b in b_set:\n",
        "    output.append(round(1-b,2))\n",
        "\n",
        "  print(output)\n",
        "complement(b_set)"
      ],
      "metadata": {
        "colab": {
          "base_uri": "https://localhost:8080/"
        },
        "id": "HNLwPUGCczXd",
        "outputId": "1f9f0af8-95f0-45f2-c6b4-331df6a2246f"
      },
      "execution_count": null,
      "outputs": [
        {
          "output_type": "stream",
          "name": "stdout",
          "text": [
            "[0.6, 0.7, 0.0, 0.8]\n"
          ]
        }
      ]
    },
    {
      "cell_type": "markdown",
      "source": [
        "ALGEBRAIC SUM"
      ],
      "metadata": {
        "id": "QFRTTGGHc6zp"
      }
    },
    {
      "cell_type": "code",
      "source": [
        "def sum(a_set, b_set):\n",
        "  output=[]\n",
        "  for a,b in zip(a_set, b_set):\n",
        "    output.append(round(a+b-(a*b),3))\n",
        "\n",
        "  print(output)\n",
        "sum(a_set, b_set)"
      ],
      "metadata": {
        "colab": {
          "base_uri": "https://localhost:8080/"
        },
        "id": "swrbnyGjc8y8",
        "outputId": "4296750f-d9bc-4e0c-c18b-68a40e452562"
      },
      "execution_count": null,
      "outputs": [
        {
          "output_type": "stream",
          "name": "stdout",
          "text": [
            "[0.46, 0.79, 1.0, 0.2]\n"
          ]
        }
      ]
    },
    {
      "cell_type": "markdown",
      "source": [
        "ALGEBRAIC PRODUCT"
      ],
      "metadata": {
        "id": "Bmv1TP5-dKCJ"
      }
    },
    {
      "cell_type": "code",
      "source": [
        "def product(a_set, b_set):\n",
        "  output=[]\n",
        "  for a,b in zip(a_set, b_set):\n",
        "    output.append(round((a*b),3))\n",
        "\n",
        "  print(output)\n",
        "product(a_set, b_set)"
      ],
      "metadata": {
        "colab": {
          "base_uri": "https://localhost:8080/"
        },
        "id": "lkTM_GjRdNUe",
        "outputId": "de2ba73a-eaab-48ea-d96f-c7ad99e8d17c"
      },
      "execution_count": null,
      "outputs": [
        {
          "output_type": "stream",
          "name": "stdout",
          "text": [
            "[0.04, 0.21, 1.0, 0.0]\n"
          ]
        }
      ]
    }
  ]
}